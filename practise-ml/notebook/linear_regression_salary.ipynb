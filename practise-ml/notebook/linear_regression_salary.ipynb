{
 "cells": [
  {
   "cell_type": "markdown",
   "metadata": {},
   "source": [
    "## Linear Regression"
   ]
  },
  {
   "cell_type": "code",
   "execution_count": 1,
   "metadata": {},
   "outputs": [],
   "source": [
    "import numpy as np\n",
    "import matplotlib.pyplot as plt\n",
    "import matplotlib.lines as mlines\n",
    "import matplotlib.animation as animation\n",
    "\n",
    "from sklearn.linear_model import LinearRegression\n",
    "import time\n",
    "\n",
    "# my project\n",
    "from modules.conf import PROJECT_DIR"
   ]
  },
  {
   "cell_type": "markdown",
   "metadata": {},
   "source": [
    "1. Load data:\n",
    "- 1st col: not use\n",
    "- YearsExperience: as x\n",
    "- Salary: as y"
   ]
  },
  {
   "cell_type": "code",
   "execution_count": 2,
   "metadata": {},
   "outputs": [],
   "source": [
    "def load_data():\n",
    "    data = np.loadtxt(fname=\"\".join([PROJECT_DIR, \"/data/regression/salary_dataset.csv\"]), delimiter=\",\", dtype=float, skiprows=1 )\n",
    "    return data[:, 1], data[:, 2]"
   ]
  },
  {
   "cell_type": "markdown",
   "metadata": {},
   "source": [
    "2. Define cost function *(optional)*:\n",
    "- Input:\n",
    "    - $w, b$: weight, bias\n",
    "    - $x, y$: $\\mathbf x$ and $\\mathbf y$ are train dataset\n",
    "- Output: $J(w,b)$\n",
    "\n",
    "$$\n",
    "J(w,b) = \\frac{1}{2m} \\sum\\limits_{i=0}^{m-1}((w x_i + b) - y_i)^2\n",
    "$$"
   ]
  },
  {
   "cell_type": "code",
   "execution_count": 3,
   "metadata": {},
   "outputs": [],
   "source": [
    "def calc_cost(w: float, b: float, x: np.ndarray, y: np.ndarray) -> float:\n",
    "    m = x.shape[0]\n",
    "    result = 0\n",
    "    for i in range(m):\n",
    "        result += ((w * x[i] + b) - y[i])**2\n",
    "    return result/(2*m)"
   ]
  },
  {
   "cell_type": "markdown",
   "metadata": {},
   "source": [
    "3. Calculate gradient of cost func:\n",
    "- Input:\n",
    "    - Input:\n",
    "    - $w, b$: weight, bias\n",
    "    - $x, y$: $x_i$ and $y_i$ from train data\n",
    "- Output: $\\nabla_w J(w,b), \\nabla_b J(w,b)$\n",
    "\n",
    "$$\n",
    "\\begin{align}\n",
    "\\nabla_w J(w,b) = \\frac{\\partial J(w,b)}{\\partial J(w)} &= \\nabla_w(\\frac{1}{2m} \\sum\\limits_{i=0}^{m-1}((wx_i + b)^2 - 2y_i(wx_i+b) + y_i^2)) \\\\\n",
    "&= \\nabla_w(\\frac{1}{2m} \\sum\\limits_{i=0}^{m-1}(w^2x_i^2 + 2wx_ib + b^2 - 2y_iwx_i-2y_ib + y_i^2))\\\\\n",
    "&= \\nabla_w(\\frac{1}{2m} \\sum\\limits_{i=0}^{m-1}(w^2x_i^2 + 2wx_ib + b^2 - 2y_iwx_i-2y_ib + y_i^2))\\\\\n",
    "&= \\frac{1}{2m} \\sum\\limits_{i=0}^{m-1}(2x_i^{2}w + 2x_ib - 2y_ix_i)\\\\\n",
    "&= \\frac{1}{m} \\sum\\limits_{i=0}^{m-1}(wx_i + b - y_i)x_i\\\\\n",
    "&= \\frac{1}{m} \\sum\\limits_{i=0}^{m-1}(f(x_i) - y_i)x_i\\\\\n",
    "\\end{align}\n",
    "$$\n",
    "\n",
    "$$\n",
    "\\begin{align}\n",
    "\\nabla_b J(w,b) = \\frac{\\partial J(w,b)}{\\partial J(b)} &= \\nabla_b(\\frac{1}{2m} \\sum\\limits_{i=0}^{m-1}((wx_i + b)^2 - 2y_i(wx_i+b) + y_i^2)) \\\\\n",
    "&= \\nabla_b(\\frac{1}{2m} \\sum\\limits_{i=0}^{m-1}(w^2x_i^2 + 2wx_ib + b^2 - 2y_iwx_i-2y_ib + y_i^2))\\\\\n",
    "&= \\nabla_b(\\frac{1}{2m} \\sum\\limits_{i=0}^{m-1}(w^2x_i^2 + 2wx_ib + b^2 - 2y_iwx_i-2y_ib + y_i^2))\\\\\n",
    "&= \\frac{1}{2m} \\sum\\limits_{i=0}^{m-1}(2wx_i + 2b - 2y_i)\\\\\n",
    "&= \\frac{1}{m} \\sum\\limits_{i=0}^{m-1}(wx_i + b - y_i)\\\\\n",
    "&= \\frac{1}{m} \\sum\\limits_{i=0}^{m-1}(f(x_i) - y_i)\\\\\n",
    "\\end{align}\n",
    "$$"
   ]
  },
  {
   "cell_type": "code",
   "execution_count": 4,
   "metadata": {},
   "outputs": [],
   "source": [
    "def calc_gradient(w: float, b: float, x: np.ndarray, y: np.ndarray) -> tuple:\n",
    "    m = x.shape[0]\n",
    "    w_result = 0.0\n",
    "    b_result = 0.0\n",
    "    for i in range(m):\n",
    "        f = w * x[i] + b\n",
    "        w_result += (f - y[i]) * x[i]\n",
    "        b_result += f - y[i]\n",
    "        pass\n",
    "    w_result /= m\n",
    "    b_result /= m\n",
    "    return w_result, b_result"
   ]
  },
  {
   "cell_type": "markdown",
   "metadata": {},
   "source": [
    "4. Calculate gradient descent:\n",
    "- Input: \n",
    "    - $x, y$: $\\mathbf x$ and $\\mathbf y$ are train dataset\n",
    "    - $w_0$, $b_0$: initial weight and bias\n",
    "    - $grad_func$: gradient of cost func\n",
    "    - $alpha$: learning rate\n",
    "    - $iter$: iterator count\n",
    "- Output:\n",
    "    - $w$: list of weight\n",
    "    - $b$: list of bias"
   ]
  },
  {
   "cell_type": "code",
   "execution_count": 5,
   "metadata": {},
   "outputs": [],
   "source": [
    "def gradient_descent(x: np.ndarray, y: np.ndarray, w_0: float, b_0: float, grad_func: calc_gradient, alpha: float, iter: int=1_000) -> tuple:\n",
    "    w = [w_0]\n",
    "    b = [b_0]\n",
    "    # f: function\n",
    "    # print(f\"{type(grad_func)}\")\n",
    "    for _ in range(iter):\n",
    "        grad_w, grad_b = grad_func(w[-1], b[-1], x, y)\n",
    "        w_new = w[-1] - alpha * grad_w\n",
    "        b_new = b[-1] - alpha * grad_b\n",
    "        # stop criteria\n",
    "        if len(w) >=2 and np.linalg.norm([w_new - w[-1], b_new - b[-1]]) < 1e-4:\n",
    "            break\n",
    "        w.append(w_new)\n",
    "        b.append(b_new)\n",
    "        # print(f\"grad_w:{grad_w} grad_b:{grad_b} w_new:{w_new} b_new:{b_new}\")\n",
    "        pass    \n",
    "    return w, b"
   ]
  },
  {
   "cell_type": "markdown",
   "metadata": {},
   "source": [
    "## Test/Predict"
   ]
  },
  {
   "cell_type": "code",
   "execution_count": 6,
   "metadata": {},
   "outputs": [
    {
     "name": "stdout",
     "output_type": "stream",
     "text": [
      "w,b found by gradient descent:9449.96937465435 24848.15590943798 in 6357 iter\n",
      "with 20 experience year, the salary may be:213847.54340252499 USD/year\n"
     ]
    }
   ],
   "source": [
    "x_train, y_train = load_data()\n",
    "x_train = np.asarray(x_train)\n",
    "y_train = np.asarray(y_train)\n",
    "# x: (n,)\n",
    "# y: (n,)\n",
    "# initialize fitting parameters. Recall that the shape of w is (n,)\n",
    "w_init = 1.0\n",
    "b_init = 1.0\n",
    "\n",
    "# some gradient descent settings \n",
    "iterations = 15000\n",
    "alpha = 1e-2\n",
    "w,b = gradient_descent(x_train ,y_train, w_init, b_init, calc_gradient, alpha, iterations)\n",
    "print(f\"w,b found by gradient descent:{w[-1]} {b[-1]} in {len(w)-1} iter\")\n",
    "\n",
    "x_test = 20\n",
    "print(f\"with {x_test} experience year, the salary may be:{w[-1]*x_test + b[-1]} USD/year\")"
   ]
  },
  {
   "cell_type": "markdown",
   "metadata": {},
   "source": [
    "## Check by sklearn"
   ]
  },
  {
   "cell_type": "code",
   "execution_count": 7,
   "metadata": {},
   "outputs": [
    {
     "name": "stdout",
     "output_type": "stream",
     "text": [
      "w: [9449.96232146] b:24848.203966523222\n",
      "with 20 experience year, the salary may be:[213847.45039562] USD/year\n"
     ]
    }
   ],
   "source": [
    "lin_reg = LinearRegression()\n",
    "lin_reg.fit(X=np.asarray(x_train).reshape(-1,1), y=y_train)\n",
    "w_checked = lin_reg.coef_\n",
    "b_checked = lin_reg.intercept_\n",
    "print(f\"w: {w_checked} b:{b_checked}\")\n",
    "print(f\"with {x_test} experience year, the salary may be:{w_checked*x_test + b_checked} USD/year\")"
   ]
  },
  {
   "cell_type": "markdown",
   "metadata": {},
   "source": [
    "## Plotting"
   ]
  },
  {
   "cell_type": "code",
   "execution_count": 8,
   "metadata": {},
   "outputs": [
    {
     "data": {
      "image/png": "[encoded data removed]",
      "text/plain": [
       "<Figure size 640x480 with 1 Axes>"
      ]
     },
     "metadata": {},
     "output_type": "display_data"
    }
   ],
   "source": [
    "x_plot = np.arange(0, 10, 1e-2)\n",
    "y_plot = np.dot(w[-1], x_plot) + b[-1]\n",
    "y_checked = np.dot(w_checked[0], x_plot) + b_checked\n",
    "fig, axes = plt.subplots()\n",
    "axes.set_title(\"Salary per experience year\")\n",
    "axes.set_xlabel(\"Experience in year\")\n",
    "axes.set_ylabel(\"Salary per year in USD\")\n",
    "axes.plot(x_train, y_train, \"ro\", markersize=5)\n",
    "checked_plot: mlines.Line2D = axes.plot(x_plot, y_checked, \"g-\", markersize=2)[0]\n",
    "checked_plot.set_label(\"checked line\")\n",
    "predict_plot: mlines.Line2D = axes.plot(x_plot, y_plot, \"b--\", markersize=2)[0]\n",
    "predict_plot.set_label(\"predicted line\")\n",
    "axes.legend()\n",
    "plt.show()"
   ]
  },
  {
   "cell_type": "code",
   "execution_count": 11,
   "metadata": {},
   "outputs": [],
   "source": [
    "%matplotlib tk\n",
    "x_plot = np.arange(0, 12, 1e-2)\n",
    "y_plot = np.dot(w[-1], x_plot) + b[-1]\n",
    "y_checked = np.dot(w_checked[0], x_plot) + b_checked\n",
    "fig, axes = plt.subplots()\n",
    "axes.set_title(\"Salary per experience year\")\n",
    "axes.set_xlabel(\"Experience in year\")\n",
    "axes.set_ylabel(\"Salary per year in USD\")\n",
    "axes.plot(x_train, y_train, \"ro\", markersize=5)\n",
    "checked_plot: mlines.Line2D = axes.plot(x_plot, y_checked, \"g-\", markersize=2)[0]\n",
    "checked_plot.set_label(\"checked line\")\n",
    "\n",
    "predict_plot: mlines.Line2D = axes.plot(x_plot, y_plot, \"b--\", markersize=2)[0]\n",
    "predict_plot.set_label(\"predicted line\")\n",
    "axes.legend()\n",
    "\n",
    "def draw_line(i: int) -> None:\n",
    "    # x_plot = np.arange(0, 12, 1e-2)\n",
    "    y_plot = np.dot(w[i], x_plot) + b[i]\n",
    "    predict_plot.set_data(x_plot, y_plot)\n",
    "    return\n",
    "def update_line(i: int) -> None:\n",
    "    # axes.clear()\n",
    "    # if i == 0: \n",
    "    if i < 10 or i % 100 == 0 or i == len(w)-1:\n",
    "        if(i < 10): time.sleep(0.1)\n",
    "        draw_line(i)\n",
    "    return\n",
    "\n",
    "ani1 = animation.FuncAnimation(fig=fig, func=update_line, frames=len(w)-1, interval=5, repeat=False)\n",
    "plt.show()"
   ]
  }
 ],
 "metadata": {
  "kernelspec": {
   "display_name": "learn-python",
   "language": "python",
   "name": "python3"
  },
  "language_info": {
   "codemirror_mode": {
    "name": "ipython",
    "version": 3
   },
   "file_extension": ".py",
   "mimetype": "text/x-python",
   "name": "python",
   "nbconvert_exporter": "python",
   "pygments_lexer": "ipython3",
   "version": "3.11.5"
  },
  "orig_nbformat": 4
 },
 "nbformat": 4,
 "nbformat_minor": 2
}
